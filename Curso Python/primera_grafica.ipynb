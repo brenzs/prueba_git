{
 "cells": [
  {
   "cell_type": "code",
   "execution_count": 1,
   "id": "6ed4facf",
   "metadata": {},
   "outputs": [],
   "source": [
    "import matplotlib.pyplot as plt"
   ]
  },
  {
   "cell_type": "code",
   "execution_count": 6,
   "id": "5e997eed",
   "metadata": {},
   "outputs": [],
   "source": [
    "import pandas as pd"
   ]
  },
  {
   "cell_type": "code",
   "execution_count": 2,
   "id": "2870ccd5",
   "metadata": {},
   "outputs": [],
   "source": [
    "año = [2020,2021,2022]"
   ]
  },
  {
   "cell_type": "code",
   "execution_count": 3,
   "id": "26c27d1b",
   "metadata": {},
   "outputs": [],
   "source": [
    "valor = [5,6,9]"
   ]
  },
  {
   "cell_type": "code",
   "execution_count": 5,
   "id": "398d7ccf",
   "metadata": {},
   "outputs": [
    {
     "data": {
      "text/plain": [
       "<matplotlib.collections.PathCollection at 0x7fda1a91a9d0>"
      ]
     },
     "execution_count": 5,
     "metadata": {},
     "output_type": "execute_result"
    },
    {
     "data": {
      "image/png": "[encoded data removed]",
      "text/plain": [
       "<Figure size 640x480 with 1 Axes>"
      ]
     },
     "metadata": {},
     "output_type": "display_data"
    }
   ],
   "source": [
    "plt.scatter(año,valor)"
   ]
  },
  {
   "cell_type": "code",
   "execution_count": 7,
   "id": "e7e8d295",
   "metadata": {},
   "outputs": [],
   "source": [
    "df = pd.read_csv(r'/Users/brendazarza/Library/Mobile Documents/com~apple~CloudDocs/Curso Python/Datasets+Data+Science+con+Python+-+Pandas/1.4/SP500_data.csv', encoding = \"ISO-8859-1\", delimiter = \",\")"
   ]
  },
  {
   "cell_type": "code",
   "execution_count": 8,
   "id": "9b36b164",
   "metadata": {},
   "outputs": [],
   "source": [
    "df.index = df[\"Date\"]"
   ]
  },
  {
   "cell_type": "code",
   "execution_count": 9,
   "id": "a3a6c461",
   "metadata": {},
   "outputs": [
    {
     "data": {
      "text/html": [
       "<div>\n",
       "<style scoped>\n",
       "    .dataframe tbody tr th:only-of-type {\n",
       "        vertical-align: middle;\n",
       "    }\n",
       "\n",
       "    .dataframe tbody tr th {\n",
       "        vertical-align: top;\n",
       "    }\n",
       "\n",
       "    .dataframe thead th {\n",
       "        text-align: right;\n",
       "    }\n",
       "</style>\n",
       "<table border=\"1\" class=\"dataframe\">\n",
       "  <thead>\n",
       "    <tr style=\"text-align: right;\">\n",
       "      <th></th>\n",
       "      <th>Date</th>\n",
       "      <th>Open</th>\n",
       "      <th>High</th>\n",
       "      <th>Low</th>\n",
       "      <th>Close</th>\n",
       "      <th>Adj Close</th>\n",
       "      <th>Volume</th>\n",
       "    </tr>\n",
       "    <tr>\n",
       "      <th>Date</th>\n",
       "      <th></th>\n",
       "      <th></th>\n",
       "      <th></th>\n",
       "      <th></th>\n",
       "      <th></th>\n",
       "      <th></th>\n",
       "      <th></th>\n",
       "    </tr>\n",
       "  </thead>\n",
       "  <tbody>\n",
       "    <tr>\n",
       "      <th>1927-12-30</th>\n",
       "      <td>1927-12-30</td>\n",
       "      <td>17.660000</td>\n",
       "      <td>17.660000</td>\n",
       "      <td>17.660000</td>\n",
       "      <td>17.660000</td>\n",
       "      <td>17.660000</td>\n",
       "      <td>0</td>\n",
       "    </tr>\n",
       "    <tr>\n",
       "      <th>1928-01-03</th>\n",
       "      <td>1928-01-03</td>\n",
       "      <td>17.760000</td>\n",
       "      <td>17.760000</td>\n",
       "      <td>17.760000</td>\n",
       "      <td>17.760000</td>\n",
       "      <td>17.760000</td>\n",
       "      <td>0</td>\n",
       "    </tr>\n",
       "    <tr>\n",
       "      <th>1928-01-04</th>\n",
       "      <td>1928-01-04</td>\n",
       "      <td>17.719999</td>\n",
       "      <td>17.719999</td>\n",
       "      <td>17.719999</td>\n",
       "      <td>17.719999</td>\n",
       "      <td>17.719999</td>\n",
       "      <td>0</td>\n",
       "    </tr>\n",
       "    <tr>\n",
       "      <th>1928-01-05</th>\n",
       "      <td>1928-01-05</td>\n",
       "      <td>17.549999</td>\n",
       "      <td>17.549999</td>\n",
       "      <td>17.549999</td>\n",
       "      <td>17.549999</td>\n",
       "      <td>17.549999</td>\n",
       "      <td>0</td>\n",
       "    </tr>\n",
       "    <tr>\n",
       "      <th>1928-01-06</th>\n",
       "      <td>1928-01-06</td>\n",
       "      <td>17.660000</td>\n",
       "      <td>17.660000</td>\n",
       "      <td>17.660000</td>\n",
       "      <td>17.660000</td>\n",
       "      <td>17.660000</td>\n",
       "      <td>0</td>\n",
       "    </tr>\n",
       "    <tr>\n",
       "      <th>...</th>\n",
       "      <td>...</td>\n",
       "      <td>...</td>\n",
       "      <td>...</td>\n",
       "      <td>...</td>\n",
       "      <td>...</td>\n",
       "      <td>...</td>\n",
       "      <td>...</td>\n",
       "    </tr>\n",
       "    <tr>\n",
       "      <th>2020-04-23</th>\n",
       "      <td>2020-04-23</td>\n",
       "      <td>2810.419922</td>\n",
       "      <td>2844.899902</td>\n",
       "      <td>2794.260010</td>\n",
       "      <td>2797.800049</td>\n",
       "      <td>2797.800049</td>\n",
       "      <td>5756520000</td>\n",
       "    </tr>\n",
       "    <tr>\n",
       "      <th>2020-04-24</th>\n",
       "      <td>2020-04-24</td>\n",
       "      <td>2812.639893</td>\n",
       "      <td>2842.709961</td>\n",
       "      <td>2791.760010</td>\n",
       "      <td>2836.739990</td>\n",
       "      <td>2836.739990</td>\n",
       "      <td>5374480000</td>\n",
       "    </tr>\n",
       "    <tr>\n",
       "      <th>2020-04-27</th>\n",
       "      <td>2020-04-27</td>\n",
       "      <td>2854.649902</td>\n",
       "      <td>2887.719971</td>\n",
       "      <td>2852.889893</td>\n",
       "      <td>2878.479980</td>\n",
       "      <td>2878.479980</td>\n",
       "      <td>5194260000</td>\n",
       "    </tr>\n",
       "    <tr>\n",
       "      <th>2020-04-28</th>\n",
       "      <td>2020-04-28</td>\n",
       "      <td>2909.959961</td>\n",
       "      <td>2921.149902</td>\n",
       "      <td>2860.709961</td>\n",
       "      <td>2863.389893</td>\n",
       "      <td>2863.389893</td>\n",
       "      <td>5672880000</td>\n",
       "    </tr>\n",
       "    <tr>\n",
       "      <th>2020-04-29</th>\n",
       "      <td>2020-04-29</td>\n",
       "      <td>2918.459961</td>\n",
       "      <td>2954.860107</td>\n",
       "      <td>2912.159912</td>\n",
       "      <td>2939.510010</td>\n",
       "      <td>2939.510010</td>\n",
       "      <td>6620140000</td>\n",
       "    </tr>\n",
       "  </tbody>\n",
       "</table>\n",
       "<p>23191 rows × 7 columns</p>\n",
       "</div>"
      ],
      "text/plain": [
       "                  Date         Open         High          Low        Close  \\\n",
       "Date                                                                         \n",
       "1927-12-30  1927-12-30    17.660000    17.660000    17.660000    17.660000   \n",
       "1928-01-03  1928-01-03    17.760000    17.760000    17.760000    17.760000   \n",
       "1928-01-04  1928-01-04    17.719999    17.719999    17.719999    17.719999   \n",
       "1928-01-05  1928-01-05    17.549999    17.549999    17.549999    17.549999   \n",
       "1928-01-06  1928-01-06    17.660000    17.660000    17.660000    17.660000   \n",
       "...                ...          ...          ...          ...          ...   \n",
       "2020-04-23  2020-04-23  2810.419922  2844.899902  2794.260010  2797.800049   \n",
       "2020-04-24  2020-04-24  2812.639893  2842.709961  2791.760010  2836.739990   \n",
       "2020-04-27  2020-04-27  2854.649902  2887.719971  2852.889893  2878.479980   \n",
       "2020-04-28  2020-04-28  2909.959961  2921.149902  2860.709961  2863.389893   \n",
       "2020-04-29  2020-04-29  2918.459961  2954.860107  2912.159912  2939.510010   \n",
       "\n",
       "              Adj Close      Volume  \n",
       "Date                                 \n",
       "1927-12-30    17.660000           0  \n",
       "1928-01-03    17.760000           0  \n",
       "1928-01-04    17.719999           0  \n",
       "1928-01-05    17.549999           0  \n",
       "1928-01-06    17.660000           0  \n",
       "...                 ...         ...  \n",
       "2020-04-23  2797.800049  5756520000  \n",
       "2020-04-24  2836.739990  5374480000  \n",
       "2020-04-27  2878.479980  5194260000  \n",
       "2020-04-28  2863.389893  5672880000  \n",
       "2020-04-29  2939.510010  6620140000  \n",
       "\n",
       "[23191 rows x 7 columns]"
      ]
     },
     "execution_count": 9,
     "metadata": {},
     "output_type": "execute_result"
    }
   ],
   "source": [
    "df"
   ]
  },
  {
   "cell_type": "code",
   "execution_count": 11,
   "id": "6242c3d0",
   "metadata": {},
   "outputs": [
    {
     "data": {
      "text/plain": [
       "<AxesSubplot:xlabel='Date'>"
      ]
     },
     "execution_count": 11,
     "metadata": {},
     "output_type": "execute_result"
    },
    {
     "data": {
      "image/png": "[encoded data removed]",
      "text/plain": [
       "<Figure size 640x480 with 1 Axes>"
      ]
     },
     "metadata": {},
     "output_type": "display_data"
    }
   ],
   "source": [
    "df [\"Close\"].plot()"
   ]
  },
  {
   "cell_type": "markdown",
   "id": "2bbb2491",
   "metadata": {},
   "source": [
    "## "
   ]
  }
 ],
 "metadata": {
  "kernelspec": {
   "display_name": "Python 3 (ipykernel)",
   "language": "python",
   "name": "python3"
  },
  "language_info": {
   "codemirror_mode": {
    "name": "ipython",
    "version": 3
   },
   "file_extension": ".py",
   "mimetype": "text/x-python",
   "name": "python",
   "nbconvert_exporter": "python",
   "pygments_lexer": "ipython3",
   "version": "3.9.13"
  }
 },
 "nbformat": 4,
 "nbformat_minor": 5
}
